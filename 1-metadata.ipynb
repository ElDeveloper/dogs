{
 "cells": [
  {
   "cell_type": "code",
   "execution_count": 2,
   "metadata": {
    "collapsed": true
   },
   "outputs": [],
   "source": [
    "%matplotlib inline\n",
    "\n",
    "import pandas as pd, numpy as np, seaborn as sns\n",
    "import matplotlib.pyplot as plt\n",
    "\n",
    "from qiime.parse import parse_mapping_file\n",
    "from qiime.format import format_mapping_file\n",
    "from skbio.io.util import open_file\n",
    "from scipy.stats import pearsonr, spearmanr\n",
    "\n",
    "def load_mf(fn):\n",
    "    with open_file(fn, 'U') as f:\n",
    "        mapping_data, header, _ = parse_mapping_file(f)\n",
    "        _mapping_file = pd.DataFrame(mapping_data, columns=header)\n",
    "        _mapping_file.set_index('SampleID', inplace=True)\n",
    "    return _mapping_file\n",
    "\n",
    "def write_mf(f, _df):\n",
    "    with open_file(f, 'w') as fp:\n",
    "        lines = format_mapping_file(['SampleID'] + _df.columns.tolist(),\n",
    "                                    list(_df.itertuples()))\n",
    "        fp.write(lines+'\\n')"
   ]
  },
  {
   "cell_type": "markdown",
   "metadata": {},
   "source": [
    "# Obtaining the metadata and removing unused data for the analysis\n",
    "\n",
    "We have a mapping file that we used for an overall initial analysis, see `Analysis.ipynb`, however we added more metadata (namely `indiv_g_protein_1000kcal_ME_group` and `indiv_g_fat_1000kcal_ME_group`) after that inital analysis was completed. Thus, in trying to ensure `Analysis.ipynb` continues to work, we'll use a new mapping file named **`mapping-file-full.txt`**. I received this file from Jan on October 8."
   ]
  },
  {
   "cell_type": "code",
   "execution_count": 2,
   "metadata": {
    "collapsed": false
   },
   "outputs": [
    {
     "name": "stdout",
     "output_type": "stream",
     "text": [
      "mapping-file-full.txt\r\n"
     ]
    }
   ],
   "source": [
    "ls mapping-file-full.txt"
   ]
  },
  {
   "cell_type": "code",
   "execution_count": 3,
   "metadata": {
    "collapsed": true
   },
   "outputs": [],
   "source": [
    "new_mf = load_mf('mapping-file-full.txt')\n",
    "old_mf = load_mf('mapping-file.txt')"
   ]
  },
  {
   "cell_type": "code",
   "execution_count": 4,
   "metadata": {
    "collapsed": false
   },
   "outputs": [
    {
     "data": {
      "text/plain": [
       "{'indiv_g_fat_1000kcal_ME_group', 'indiv_g_protein_1000kcal_ME_group'}"
      ]
     },
     "execution_count": 4,
     "metadata": {},
     "output_type": "execute_result"
    }
   ],
   "source": [
    "set(new_mf.columns) - set(old_mf.columns)"
   ]
  },
  {
   "cell_type": "code",
   "execution_count": 5,
   "metadata": {
    "collapsed": false
   },
   "outputs": [
    {
     "name": "stdout",
     "output_type": "stream",
     "text": [
      "90\n"
     ]
    }
   ],
   "source": [
    "print len(new_mf.columns)"
   ]
  },
  {
   "cell_type": "code",
   "execution_count": 6,
   "metadata": {
    "collapsed": false
   },
   "outputs": [
    {
     "name": "stdout",
     "output_type": "stream",
     "text": [
      "88\n"
     ]
    }
   ],
   "source": [
    "print len(old_mf.columns)"
   ]
  },
  {
   "cell_type": "code",
   "execution_count": 7,
   "metadata": {
    "collapsed": false
   },
   "outputs": [
    {
     "name": "stdout",
     "output_type": "stream",
     "text": [
      "192 192\n"
     ]
    }
   ],
   "source": [
    "print len(new_mf), len(old_mf)"
   ]
  },
  {
   "cell_type": "code",
   "execution_count": 8,
   "metadata": {
    "collapsed": false
   },
   "outputs": [
    {
     "name": "stdout",
     "output_type": "stream",
     "text": [
      "RUN_DATE changed from the old to the new file '1/30/2012' != '1/30/12'\n",
      "collection_date changed from the old to the new file '1/30/2012' != '1/30/12'\n",
      "Weight_group changed from the old to the new file '3' != '3.0'\n",
      "Weight_kg changed from the old to the new file '31' != '31.0'\n",
      "tot_mass changed from the old to the new file '31' != '31.0'\n",
      "BCS changed from the old to the new file '8' != '8.0'\n",
      "elevation changed from the old to the new file '571' != '571.0'\n",
      "COLLECTION_TIMESTAMP changed from the old to the new file '1/30/2012 0:00' != '1/30/12 0:00'\n",
      "Age_group changed from the old to the new file '3' != '3.0'\n",
      "age changed from the old to the new file '8' != '8.0'\n"
     ]
    }
   ],
   "source": [
    "a = new_mf.copy()\n",
    "b = old_mf.copy()\n",
    "\n",
    "for column_name in set(a.columns) & set(b.columns):\n",
    "    try:\n",
    "        pd.util.testing.assert_series_equal(a[column_name], b[column_name])\n",
    "    except AssertionError as e:\n",
    "        print column_name, 'changed from the old to the new file', str(e)"
   ]
  },
  {
   "cell_type": "markdown",
   "metadata": {},
   "source": [
    "Most of these changes seem to be Excel coercing data into a different data type, since this is the case I'll just add the new columns to the old mapping file and serialize that."
   ]
  },
  {
   "cell_type": "code",
   "execution_count": 9,
   "metadata": {
    "collapsed": false
   },
   "outputs": [],
   "source": [
    "!mv -n mapping-file-full.txt mapping-file-excelified.txt"
   ]
  },
  {
   "cell_type": "code",
   "execution_count": 10,
   "metadata": {
    "collapsed": false
   },
   "outputs": [],
   "source": [
    "new_mf = load_mf('mapping-file-excelified.txt')\n",
    "old_mf = load_mf('mapping-file.txt')\n",
    "\n",
    "old_mf['indiv_g_fat_1000kcal_ME_group'] = new_mf['indiv_g_fat_1000kcal_ME_group'].copy()\n",
    "old_mf['indiv_g_protein_1000kcal_ME_group'] = new_mf['indiv_g_protein_1000kcal_ME_group'].copy()\n",
    "\n",
    "# this cell had a value of 558.8, which I confirmed with Jan and the correct value should be 58.8\n",
    "old_mf = old_mf.set_value('Nor.C1', 'indiv_g_protein_1000kcal_ME_group', '58.8')\n",
    "\n",
    "write_mf('mapping-file-full.txt', old_mf)"
   ]
  },
  {
   "cell_type": "code",
   "execution_count": 11,
   "metadata": {
    "collapsed": false
   },
   "outputs": [
    {
     "data": {
      "text/plain": [
       "healthy                98\n",
       "IBD                    79\n",
       "acute hem. diarrhea    15\n",
       "dtype: int64"
      ]
     },
     "execution_count": 11,
     "metadata": {},
     "output_type": "execute_result"
    }
   ],
   "source": [
    "old_mf.disease_stat.value_counts()"
   ]
  },
  {
   "cell_type": "code",
   "execution_count": 44,
   "metadata": {
    "collapsed": false
   },
   "outputs": [],
   "source": [
    "!filter_samples_from_otu_table.py -i otu_table.15000.biom \\\n",
    "-o otu_table.15000.no-diarrhea.biom \\\n",
    "-s 'disease_stat:!acute hem. diarrhea,*' \\\n",
    "-m mapping-file-full.txt"
   ]
  },
  {
   "cell_type": "code",
   "execution_count": 12,
   "metadata": {
    "collapsed": false
   },
   "outputs": [
    {
     "name": "stdout",
     "output_type": "stream",
     "text": [
      "Without filtering\n",
      "Num samples: 162\n",
      "Num observations: 5467\n",
      "Total count: 2430000\n",
      "Table density (fraction of non-zero values): 0.052\n",
      "\n",
      "Counts/sample summary:\n",
      " Min: 15000.0\n",
      " Max: 15000.0\n",
      " Median: 15000.000\n",
      " Mean: 15000.000\n",
      "After filtering\n",
      "Num samples: 149\n",
      "Num observations: 5467\n",
      "Total count: 2235000\n",
      "Table density (fraction of non-zero values): 0.053\n",
      "\n",
      "Counts/sample summary:\n",
      " Min: 15000.0\n",
      " Max: 15000.0\n",
      " Median: 15000.000\n",
      " Mean: 15000.000\n"
     ]
    }
   ],
   "source": [
    "%%bash \n",
    "\n",
    "echo 'Without filtering'\n",
    "biom summarize-table -i otu_table.15000.biom | head\n",
    "echo 'After filtering'\n",
    "biom summarize-table -i otu_table.15000.no-diarrhea.biom | head"
   ]
  },
  {
   "cell_type": "markdown",
   "metadata": {},
   "source": [
    "# Add $\\alpha$-diversity information"
   ]
  },
  {
   "cell_type": "code",
   "execution_count": 13,
   "metadata": {
    "collapsed": true
   },
   "outputs": [],
   "source": [
    "!add_alpha_to_mapping_file.py -m mapping-file-full.txt \\\n",
    "--alpha_fps alpha/alpha-20000/alpha_div_collated/PD_whole_tree.txt,\\\n",
    "alpha/alpha-20000/alpha_div_collated/chao1.txt,\\\n",
    "alpha/alpha-20000/alpha_div_collated/observed_species.txt,\\\n",
    "alpha/alpha-20000/alpha_div_collated/shannon.txt \\\n",
    "-b 4 \\\n",
    "-o mapping-file-full.alpha.txt \\\n",
    "--depth 15000 \\\n",
    "--collated_input"
   ]
  },
  {
   "cell_type": "markdown",
   "metadata": {},
   "source": [
    "#Add taxa summaries information"
   ]
  },
  {
   "cell_type": "code",
   "execution_count": 14,
   "metadata": {
    "collapsed": true
   },
   "outputs": [],
   "source": [
    "!summarize_taxa.py -i otu_table.15000.no-diarrhea.biom \\\n",
    "-o taxonomic_summaries/no-diarrhea/ \\\n",
    "-m mapping-file-full.alpha.txt"
   ]
  },
  {
   "cell_type": "markdown",
   "metadata": {},
   "source": [
    "# Add Gevers et al dysbiosis index"
   ]
  },
  {
   "cell_type": "code",
   "execution_count": 15,
   "metadata": {
    "collapsed": true
   },
   "outputs": [],
   "source": [
    "mf = load_mf('taxonomic_summaries/no-diarrhea/mapping-file-full.alpha_L6.txt')\n",
    "\n",
    "# according to figure 2 in the Gevers paper\n",
    "prot = {'__Dialister', '__Bilophila', '__Oscillospira', '__Faecalibacterium', '__Ruminococcaceae', '__Dorea',\n",
    "        '__Erysipelotrichaceae', '__Ruminococcus', '__Coprococcus', '__Lachnospiraceae', '__Bacteroides',\n",
    "        '__Parabacteroides', '__Rikenellaceae', '__Sutterella'}\n",
    "infl = {'__Fusobacterium', '__Haemophilus', '__Veillonella', '__Escherichia'}\n",
    "\n",
    "mf['Gevers_Protective'] = pd.Series(np.zeros_like(mf.index.values), mf.index, dtype=np.float)\n",
    "mf['Gevers_Inflammatory'] = pd.Series(np.zeros_like(mf.index.values), mf.index, dtype=np.float)\n",
    "for column_name in mf.columns:\n",
    "    if any([True for p in prot if p in column_name]):\n",
    "        mf['Gevers_Protective'] += mf[column_name].astype(np.float)\n",
    "    elif any([True for i in infl if i in column_name]):\n",
    "        mf['Gevers_Inflammatory'] += mf[column_name].astype(np.float)\n",
    "    else:\n",
    "        continue\n",
    "\n",
    "# calculating the dysbiosis index\n",
    "mf['Gevers_Dysbiosis_Index'] = np.divide(mf['Gevers_Inflammatory'], mf['Gevers_Protective']).astype(np.float)\n",
    "# drop any samples with undefined values\n",
    "mf['Gevers_Dysbiosis_Index'].replace({0: np.nan}, inplace=True)\n",
    "mf['Gevers_Dysbiosis_Index'] = np.log(mf['Gevers_Dysbiosis_Index'])\n",
    "\n",
    "# convert the data to strings so we can serialize it\n",
    "for column_name in ['Gevers_Dysbiosis_Index', 'Gevers_Protective', 'Gevers_Inflammatory']:\n",
    "    mf[column_name] = mf[column_name].astype(str)\n",
    "    \n",
    "write_mf('mapping-file-full.alpha.L6index.txt', mf)\n",
    "del mf"
   ]
  },
  {
   "cell_type": "code",
   "execution_count": 3,
   "metadata": {
    "collapsed": false
   },
   "outputs": [],
   "source": [
    "mf = load_mf('mapping-file-full.alpha.L6index.txt')"
   ]
  },
  {
   "cell_type": "code",
   "execution_count": 6,
   "metadata": {
    "collapsed": false
   },
   "outputs": [
    {
     "data": {
      "text/plain": [
       "GAZ:United States of America    41\n",
       "GAZ:Sweden                      27\n",
       "GAZ:Brazil                      27\n",
       "GAZ:France                      16\n",
       "GAZ:Germany                     14\n",
       "GAZ:United Kingdom              12\n",
       "GAZ:Finland                     12\n",
       "Name: country, dtype: int64"
      ]
     },
     "execution_count": 6,
     "metadata": {},
     "output_type": "execute_result"
    }
   ],
   "source": [
    "mf.country.value_counts()"
   ]
  },
  {
   "cell_type": "code",
   "execution_count": 7,
   "metadata": {
    "collapsed": false
   },
   "outputs": [
    {
     "data": {
      "text/plain": [
       "healthy    85\n",
       "IBD        64\n",
       "Name: disease_stat, dtype: int64"
      ]
     },
     "execution_count": 7,
     "metadata": {},
     "output_type": "execute_result"
    }
   ],
   "source": [
    "mf.disease_stat.value_counts()"
   ]
  }
 ],
 "metadata": {
  "kernelspec": {
   "display_name": "Python 2",
   "language": "python",
   "name": "python2"
  },
  "language_info": {
   "codemirror_mode": {
    "name": "ipython",
    "version": 2
   },
   "file_extension": ".py",
   "mimetype": "text/x-python",
   "name": "python",
   "nbconvert_exporter": "python",
   "pygments_lexer": "ipython2",
   "version": "2.7.9"
  }
 },
 "nbformat": 4,
 "nbformat_minor": 0
}
