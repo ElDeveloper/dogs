{
 "cells": [
  {
   "cell_type": "markdown",
   "metadata": {},
   "source": [
    "Before being able to use [CCREPE](http://huttenhower.sph.harvard.edu/ccrepe), we needed a few R packages, that can be installed as follows:\n",
    "\n",
    "```R\n",
    "install.packages(\"infotheo\")\n",
    "```\n",
    "\n",
    "```bash\n",
    "wget http://www.bioconductor.org/packages/devel/bioc/src/contrib/ccrepe_1.7.0.tar.gz\n",
    "R CMD INSTALL ccrepe_1.7.0.tar.gz \n",
    "```"
   ]
  },
  {
   "cell_type": "code",
   "execution_count": 1,
   "metadata": {
    "collapsed": false
   },
   "outputs": [
    {
     "name": "stderr",
     "output_type": "stream",
     "text": [
      "Warning message:\n",
      "In dir.create(\"stats/group-significance/no-diarrhea/ccrepe\", recursive = TRUE): 'stats/group-significance/no-diarrhea/ccrepe' already exists"
     ]
    }
   ],
   "source": [
    "dir.create('stats/group-significance/no-diarrhea/ccrepe', recursive = TRUE)"
   ]
  },
  {
   "cell_type": "code",
   "execution_count": 20,
   "metadata": {
    "collapsed": false
   },
   "outputs": [],
   "source": [
    "library(\"ccrepe\")\n",
    "\n",
    "otus <- read.table(\"stats/group-significance/no-diarrhea/taxa-summaries-10pct/otu_table.filtered.10pct_L6.txt\",\n",
    "                   sep=\"\\t\", header=TRUE, skip=1, comment.char='')\n",
    "rownames(otus) <- otus$X.OTU.ID\n",
    "otus$X.OTU.ID <- NULL\n",
    "\n",
    "otus.score <- nc.score(x=t(otus))\n",
    "\n",
    "write.table(otus.score,\n",
    "            file='stats/group-significance/no-diarrhea/ccrepe/ccrepe-otu_table.filtered.10pct_L6.txt',\n",
    "            quote=FALSE, sep='\\t')"
   ]
  },
  {
   "cell_type": "code",
   "execution_count": 21,
   "metadata": {
    "collapsed": true
   },
   "outputs": [],
   "source": [
    "library(\"ccrepe\")\n",
    "\n",
    "otus <- read.table(\"stats/group-significance/no-diarrhea/taxa-summaries-10pct/otu_table.filtered.10pct_L4.txt\",\n",
    "                   sep=\"\\t\", header=TRUE, skip=1, comment.char='')\n",
    "rownames(otus) <- otus$X.OTU.ID\n",
    "otus$X.OTU.ID <- NULL\n",
    "\n",
    "otus.score <- nc.score(x=t(otus))\n",
    "\n",
    "write.table(otus.score,\n",
    "            file='stats/group-significance/no-diarrhea/ccrepe/ccrepe-otu_table.filtered.10pct_L4.txt',\n",
    "            quote=FALSE, sep='\\t')"
   ]
  },
  {
   "cell_type": "code",
   "execution_count": 23,
   "metadata": {
    "collapsed": true
   },
   "outputs": [],
   "source": [
    "library(\"ccrepe\")\n",
    "\n",
    "otus <- read.table(\"stats/group-significance/no-diarrhea/taxa-summaries-10pct/otu_table.filtered.10pct_L4.txt\",\n",
    "                   sep=\"\\t\", header=TRUE, skip=1, comment.char='')\n",
    "rownames(otus) <- otus$X.OTU.ID\n",
    "otus$X.OTU.ID <- NULL\n",
    "\n",
    "otus.score <- ccrepe(x=t(otus), iterations=20, sim.score=nc.score)\n",
    "\n",
    "write.table(otus.score$sim.score,\n",
    "            file='stats/group-significance/no-diarrhea/ccrepe/ccrepe-score-otu_table.filtered.10pct_L4.txt',\n",
    "            quote=FALSE, sep='\\t')"
   ]
  },
  {
   "cell_type": "code",
   "execution_count": 4,
   "metadata": {
    "collapsed": true
   },
   "outputs": [],
   "source": [
    "library(\"ccrepe\")\n",
    "\n",
    "otus <- read.table(\"stats/group-significance/no-diarrhea/taxa-summaries-10pct/otu_table.filtered.10pct_L6.txt\",\n",
    "                   sep=\"\\t\", header=TRUE, skip=1, comment.char='')\n",
    "rownames(otus) <- otus$X.OTU.ID\n",
    "otus$X.OTU.ID <- NULL\n",
    "\n",
    "otus.score <- ccrepe(x=t(otus), iterations=20, sim.score=nc.score)\n",
    "\n",
    "write.table(otus.score$sim.score,\n",
    "            file='stats/group-significance/no-diarrhea/ccrepe/ccrepe-sim-score-otu_table.filtered.10pct_L6.txt',\n",
    "            quote=FALSE, sep='\\t')\n",
    "write.table(otus.score$z.stat,\n",
    "            file='stats/group-significance/no-diarrhea/ccrepe/ccrepe-z-score-otu_table.filtered.10pct_L6.txt',\n",
    "            quote=FALSE, sep='\\t')"
   ]
  }
 ],
 "metadata": {
  "kernelspec": {
   "display_name": "R",
   "language": "R",
   "name": "ir"
  },
  "language_info": {
   "codemirror_mode": "r",
   "file_extension": ".r",
   "mimetype": "text/x-r-source",
   "name": "R",
   "pygments_lexer": "r",
   "version": "3.2.2"
  }
 },
 "nbformat": 4,
 "nbformat_minor": 0
}
