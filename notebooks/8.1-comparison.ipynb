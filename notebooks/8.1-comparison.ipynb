{
 "cells": [
  {
   "cell_type": "code",
   "execution_count": 1,
   "metadata": {
    "collapsed": true
   },
   "outputs": [],
   "source": [
    "%matplotlib inline\n",
    "\n",
    "import pandas as pd, numpy as np, seaborn as sns\n",
    "import matplotlib.pyplot as plt\n",
    "\n",
    "from biom import load_table\n",
    "from biom.util import biom_open\n",
    "\n",
    "from qiime.parse import parse_mapping_file\n",
    "from qiime.format import format_mapping_file\n",
    "from skbio.io.util import open_file\n",
    "from scipy.stats import pearsonr, spearmanr\n",
    "\n",
    "def load_mf(fn):\n",
    "    with open_file(fn, 'U') as f:\n",
    "        mapping_data, header, _ = parse_mapping_file(f)\n",
    "        _mapping_file = pd.DataFrame(mapping_data, columns=header)\n",
    "        _mapping_file.set_index('SampleID', inplace=True)\n",
    "    return _mapping_file\n",
    "\n",
    "def write_mf(f, _df):\n",
    "    with open_file(f, 'w') as fp:\n",
    "        lines = format_mapping_file(['SampleID'] + _df.columns.tolist(),\n",
    "                                    list(_df.itertuples()))\n",
    "        fp.write(lines+'\\n')"
   ]
  },
  {
   "cell_type": "code",
   "execution_count": 2,
   "metadata": {
    "collapsed": false
   },
   "outputs": [
    {
     "name": "stdout",
     "output_type": "stream",
     "text": [
      "mapping-file-Healthy.15000.txt      otu-table-IBD.15000.40pct.biom\r\n",
      "mapping-file-IBD.15000.txt          otu-table-IBD.15000.biom\r\n",
      "otu-table-Healthy.15000.40pct.biom  \u001b[1m\u001b[36mtaxa-summaries-Healthy-40pct\u001b[m\u001b[m/\r\n",
      "otu-table-Healthy.15000.biom        \u001b[1m\u001b[36mtaxa-summaries-IBD-40pct\u001b[m\u001b[m/\r\n"
     ]
    }
   ],
   "source": [
    "ls combined-gevers-suchdolski/ibd-comparison/"
   ]
  },
  {
   "cell_type": "markdown",
   "metadata": {},
   "source": [
    "# Filter out all but fecal samples from both studies"
   ]
  },
  {
   "cell_type": "code",
   "execution_count": 4,
   "metadata": {
    "collapsed": true
   },
   "outputs": [],
   "source": [
    "mf = load_mf('combined-gevers-suchdolski/mapping-file.standardized.alpha.amended.txt')\n",
    "bt = load_table('combined-gevers-suchdolski/otu-table.15000.biom')\n",
    "\n",
    "mf = mf.loc[list(bt.ids())]\n",
    "mf = mf[mf.BIOPSY_LOCATION.isin(['stool', 'no_data'])]\n",
    "\n",
    "bt.filter(mf.index.tolist(), inplace=True)\n",
    "\n",
    "with biom_open('combined-gevers-suchdolski/otu-table.15000.fecal-only.hdf5.biom', 'w') as f:\n",
    "    bt.to_hdf5(f, 'Notebook filtering data')\n",
    "    \n",
    "with open('combined-gevers-suchdolski/otu-table.15000.fecal-only.json.biom', 'w') as f:\n",
    "    f.write(bt.to_json('Notebook filtering data'))\n",
    "\n",
    "write_mf('combined-gevers-suchdolski/mapping-file.standardized.alpha.amended.fecal-only.txt', mf)"
   ]
  },
  {
   "cell_type": "code",
   "execution_count": 5,
   "metadata": {
    "collapsed": false
   },
   "outputs": [
    {
     "name": "stdout",
     "output_type": "stream",
     "text": [
      "/Users/yoshikivazquezbaeza/.virtualenvs/qiime-191/lib/python2.7/site-packages/skbio/stats/ordination/_principal_coordinate_analysis.py:107: RuntimeWarning: The result contains negative eigenvalues. Please compare their magnitude with the magnitude of some of the largest positive eigenvalues. If the negative ones are smaller, it's probably safe to ignore them, but if they are large in magnitude, the results won't be useful. See the Notes section for more details. The smallest eigenvalue is -1.4156344708 and the largest is 36.1591245361.\n",
      "  RuntimeWarning\n",
      "/Users/yoshikivazquezbaeza/.virtualenvs/qiime-191/lib/python2.7/site-packages/skbio/stats/ordination/_principal_coordinate_analysis.py:107: RuntimeWarning: The result contains negative eigenvalues. Please compare their magnitude with the magnitude of some of the largest positive eigenvalues. If the negative ones are smaller, it's probably safe to ignore them, but if they are large in magnitude, the results won't be useful. See the Notes section for more details. The smallest eigenvalue is -0.00590787463517 and the largest is 24.0173620336.\n",
      "  RuntimeWarning\n"
     ]
    }
   ],
   "source": [
    "!beta_diversity_through_plots.py \\\n",
    "-i combined-gevers-suchdolski/otu-table.15000.fecal-only.hdf5.biom \\\n",
    "-m combined-gevers-suchdolski/mapping-file.standardized.alpha.amended.fecal-only.txt \\\n",
    "-o combined-gevers-suchdolski/beta-fecal-only \\\n",
    "-t gg_13_8_otus/trees/97_otus.tree"
   ]
  },
  {
   "cell_type": "markdown",
   "metadata": {
    "collapsed": true
   },
   "source": [
    "Redo some plots to fit add a column."
   ]
  },
  {
   "cell_type": "code",
   "execution_count": 1,
   "metadata": {
    "collapsed": true
   },
   "outputs": [],
   "source": [
    "!make_emperor.py \\\n",
    "-i combined-gevers-suchdolski/beta-fecal-only/unweighted_unifrac_pc.txt \\\n",
    "-m combined-gevers-suchdolski/mapping-file.standardized.alpha.amended.fecal-only.combined-columns.txt \\\n",
    "-o combined-gevers-suchdolski/beta-fecal-only/unweighted_unifrac_emperor_pcoa_plot/\n",
    "\n",
    "!make_emperor.py \\\n",
    "-i combined-gevers-suchdolski/beta-fecal-only/weighted_unifrac_pc.txt \\\n",
    "-m combined-gevers-suchdolski/mapping-file.standardized.alpha.amended.fecal-only.combined-columns.txt \\\n",
    "-o combined-gevers-suchdolski/beta-fecal-only/weighted_unifrac_emperor_pcoa_plot/"
   ]
  }
 ],
 "metadata": {
  "kernelspec": {
   "display_name": "Python 2",
   "language": "python",
   "name": "python2"
  },
  "language_info": {
   "codemirror_mode": {
    "name": "ipython",
    "version": 2
   },
   "file_extension": ".py",
   "mimetype": "text/x-python",
   "name": "python",
   "nbconvert_exporter": "python",
   "pygments_lexer": "ipython2",
   "version": "2.7.9"
  }
 },
 "nbformat": 4,
 "nbformat_minor": 0
}
