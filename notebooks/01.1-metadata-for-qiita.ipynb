{
 "cells": [
  {
   "cell_type": "code",
   "execution_count": 3,
   "metadata": {
    "collapsed": true
   },
   "outputs": [],
   "source": [
    "%matplotlib inline\n",
    "\n",
    "import pandas as pd, numpy as np, seaborn as sns\n",
    "import matplotlib.pyplot as plt\n",
    "\n",
    "from qiime.parse import parse_mapping_file\n",
    "from qiime.format import format_mapping_file\n",
    "from skbio.io.util import open_file\n",
    "from scipy.stats import pearsonr, spearmanr\n",
    "\n",
    "def load_mf(fn):\n",
    "    with open_file(fn, 'U') as f:\n",
    "        mapping_data, header, _ = parse_mapping_file(f)\n",
    "        _mapping_file = pd.DataFrame(mapping_data, columns=header)\n",
    "        _mapping_file.set_index('SampleID', inplace=True)\n",
    "    return _mapping_file\n",
    "\n",
    "def write_mf(f, _df):\n",
    "    with open_file(f, 'w') as fp:\n",
    "        lines = format_mapping_file(['SampleID'] + _df.columns.tolist(),\n",
    "                                    list(_df.itertuples()))\n",
    "        fp.write(lines+'\\n')"
   ]
  },
  {
   "cell_type": "markdown",
   "metadata": {},
   "source": [
    "# Obtaining the metadata and removing unused data for the analysis\n",
    "\n",
    "We have a mapping file that we used for an overall initial analysis, see `Analysis.ipynb`, however we added more metadata (namely `indiv_g_protein_1000kcal_ME_group` and `indiv_g_fat_1000kcal_ME_group`) after that inital analysis was completed. Thus, in trying to ensure `Analysis.ipynb` continues to work, we'll use a new mapping file named **`mapping-file-full.txt`**. I received this file from Jan on October 8."
   ]
  },
  {
   "cell_type": "code",
   "execution_count": 4,
   "metadata": {
    "collapsed": false
   },
   "outputs": [
    {
     "name": "stdout",
     "output_type": "stream",
     "text": [
      "log.txt                                 mapping-file.alpha.txt\r\n",
      "mapping-file-excelified.txt             mapping-file.txt\r\n",
      "mapping-file-full.alpha.L6index.txt     node-attributes.txt\r\n",
      "mapping-file-full.alpha.txt             protective-inflammatory.txt\r\n",
      "mapping-file-full.txt                   test.edgelist.2.txt\r\n",
      "mapping-file.alpha.index.dogbyosis.txt  test.edgelist.txt\r\n",
      "mapping-file.alpha.index.txt\r\n"
     ]
    }
   ],
   "source": [
    "ls *.txt"
   ]
  },
  {
   "cell_type": "code",
   "execution_count": 12,
   "metadata": {
    "collapsed": false
   },
   "outputs": [],
   "source": [
    "st = load_mf('qiita/sample-template.txt')"
   ]
  },
  {
   "cell_type": "code",
   "execution_count": 13,
   "metadata": {
    "collapsed": true
   },
   "outputs": [],
   "source": [
    "mf = load_mf('mapping-file-full.txt')"
   ]
  },
  {
   "cell_type": "code",
   "execution_count": 17,
   "metadata": {
    "collapsed": true
   },
   "outputs": [],
   "source": [
    "st['indiv_g_fat_1000kcal_ME_group'] = mf['indiv_g_fat_1000kcal_ME_group'].copy()\n",
    "st['indiv_g_protein_1000kcal_ME_group'] = mf['indiv_g_protein_1000kcal_ME_group'].copy()\n",
    "st['collection_timestamp'] = mf.collection_date.copy()\n",
    "st['physical_specimen_location'] = ['Texas A&M'] * len(st)\n",
    "st.drop('collection_timestamp', axis=1, inplace=True)\n",
    "\n",
    "# this cell had a value of 558.8, which I confirmed with Jan and the correct value should be 58.8\n",
    "st = mf.set_value('Nor.C1', 'indiv_g_protein_1000kcal_ME_group', '58.8')"
   ]
  },
  {
   "cell_type": "code",
   "execution_count": 18,
   "metadata": {
    "collapsed": false
   },
   "outputs": [],
   "source": [
    "a = st.copy()\n",
    "b = mf.copy()\n",
    "\n",
    "for column_name in set(a.columns) & set(b.columns):\n",
    "    try:\n",
    "        pd.util.testing.assert_series_equal(a[column_name], b[column_name])\n",
    "    except AssertionError as e:\n",
    "        print column_name, 'changed from the old to the new file', str(e)"
   ]
  },
  {
   "cell_type": "code",
   "execution_count": 28,
   "metadata": {
    "collapsed": true
   },
   "outputs": [],
   "source": [
    "write_mf('qiita/sample-information.fixed.txt', st)"
   ]
  },
  {
   "cell_type": "code",
   "execution_count": null,
   "metadata": {
    "collapsed": true
   },
   "outputs": [],
   "source": [
    "mf.LIBRARY_CONSTRUCTION_PROTOCOL"
   ]
  },
  {
   "cell_type": "code",
   "execution_count": null,
   "metadata": {
    "collapsed": true
   },
   "outputs": [],
   "source": [
    "#library_construction_protocol, center_name, instrument_model "
   ]
  },
  {
   "cell_type": "code",
   "execution_count": 43,
   "metadata": {
    "collapsed": true
   },
   "outputs": [],
   "source": [
    "pt = load_mf('qiita/prep-template.txt')"
   ]
  },
  {
   "cell_type": "code",
   "execution_count": 44,
   "metadata": {
    "collapsed": true
   },
   "outputs": [],
   "source": [
    "pt['library_construction_protocol'] = st.LIBRARY_CONSTRUCTION_PROTOCOL.copy()\n",
    "pt['center_name'] = ['CCME'] * len(pt)\n",
    "pt['instrument_model'] = ['Illumina HiSeq 2000'] * len(pt)"
   ]
  },
  {
   "cell_type": "code",
   "execution_count": 45,
   "metadata": {
    "collapsed": false
   },
   "outputs": [],
   "source": [
    "write_mf('qiita/prep-information.fixed.txt', pt)"
   ]
  },
  {
   "cell_type": "code",
   "execution_count": 31,
   "metadata": {
    "collapsed": false
   },
   "outputs": [
    {
     "data": {
      "text/plain": [
       "HiSeq    192\n",
       "Name: illumina_technology, dtype: int64"
      ]
     },
     "execution_count": 31,
     "metadata": {},
     "output_type": "execute_result"
    }
   ],
   "source": [
    "st.illumina_technology.value_counts()"
   ]
  },
  {
   "cell_type": "code",
   "execution_count": 33,
   "metadata": {
    "collapsed": false
   },
   "outputs": [
    {
     "data": {
      "text/plain": [
       "Texas A&M    192\n",
       "Name: EXPERIMENT_CENTER, dtype: int64"
      ]
     },
     "execution_count": 33,
     "metadata": {},
     "output_type": "execute_result"
    }
   ],
   "source": [
    "st.EXPERIMENT_CENTER.value_counts()"
   ]
  },
  {
   "cell_type": "code",
   "execution_count": 34,
   "metadata": {
    "collapsed": false
   },
   "outputs": [
    {
     "data": {
      "text/plain": [
       "Texas A&M    192\n",
       "Name: STUDY_CENTER, dtype: int64"
      ]
     },
     "execution_count": 34,
     "metadata": {},
     "output_type": "execute_result"
    }
   ],
   "source": [
    "st.STUDY_CENTER.value_counts()"
   ]
  },
  {
   "cell_type": "code",
   "execution_count": 35,
   "metadata": {
    "collapsed": false
   },
   "outputs": [
    {
     "data": {
      "text/plain": [
       "Texas A&M    192\n",
       "Name: SAMPLE_CENTER, dtype: int64"
      ]
     },
     "execution_count": 35,
     "metadata": {},
     "output_type": "execute_result"
    }
   ],
   "source": [
    "st.SAMPLE_CENTER.value_counts()"
   ]
  },
  {
   "cell_type": "code",
   "execution_count": 36,
   "metadata": {
    "collapsed": false
   },
   "outputs": [
    {
     "name": "stdout",
     "output_type": "stream",
     "text": [
      "EXPERIMENT_CENTER\n",
      "RUN_CENTER\n",
      "SAMPLE_CENTER\n",
      "STUDY_CENTER\n"
     ]
    }
   ],
   "source": [
    "for i in st.columns:\n",
    "    if 'center' in i.lower():\n",
    "        print i"
   ]
  },
  {
   "cell_type": "code",
   "execution_count": 37,
   "metadata": {
    "collapsed": false
   },
   "outputs": [
    {
     "data": {
      "text/plain": [
       "CCME    192\n",
       "Name: RUN_CENTER, dtype: int64"
      ]
     },
     "execution_count": 37,
     "metadata": {},
     "output_type": "execute_result"
    }
   ],
   "source": [
    "st.RUN_CENTER.value_counts()"
   ]
  },
  {
   "cell_type": "code",
   "execution_count": null,
   "metadata": {
    "collapsed": true
   },
   "outputs": [],
   "source": []
  }
 ],
 "metadata": {
  "kernelspec": {
   "display_name": "Python 2",
   "language": "python",
   "name": "python2"
  },
  "language_info": {
   "codemirror_mode": {
    "name": "ipython",
    "version": 2
   },
   "file_extension": ".py",
   "mimetype": "text/x-python",
   "name": "python",
   "nbconvert_exporter": "python",
   "pygments_lexer": "ipython2",
   "version": "2.7.9"
  }
 },
 "nbformat": 4,
 "nbformat_minor": 0
}
