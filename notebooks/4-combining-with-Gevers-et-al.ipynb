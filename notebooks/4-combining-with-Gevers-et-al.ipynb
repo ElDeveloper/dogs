{
 "cells": [
  {
   "cell_type": "code",
   "execution_count": 1,
   "metadata": {
    "collapsed": true
   },
   "outputs": [],
   "source": [
    "%matplotlib inline\n",
    "\n",
    "import pandas as pd, numpy as np, seaborn as sns\n",
    "import matplotlib.pyplot as plt\n",
    "\n",
    "from qiime.parse import parse_mapping_file\n",
    "from qiime.format import format_mapping_file\n",
    "from skbio.io.util import open_file\n",
    "\n",
    "def load_mf(fn):\n",
    "    with open_file(fn, 'U') as f:\n",
    "        mapping_data, header, _ = parse_mapping_file(f)\n",
    "        _mapping_file = pd.DataFrame(mapping_data, columns=header)\n",
    "        _mapping_file.set_index('SampleID', inplace=True)\n",
    "    return _mapping_file\n",
    "\n",
    "def write_mf(f, _df):\n",
    "    with open_file(f, 'w') as fp:\n",
    "        lines = format_mapping_file(['SampleID'] + _df.columns.tolist(),\n",
    "                                    list(_df.itertuples()))\n",
    "        fp.write(lines+'\\n')"
   ]
  },
  {
   "cell_type": "code",
   "execution_count": null,
   "metadata": {
    "collapsed": true
   },
   "outputs": [],
   "source": [
    "%%bash\n",
    "\n",
    "# You must be in CU's VPN for the following to work\n",
    "\n",
    "mkdir -p gevers\n",
    "\n",
    "scp pando:/Users/yova1074/yova1074/gevers/closed-ref-13-8/otu_table.biom gevers/\n",
    "scp pando:/Users/yova1074/yova1074/gevers/mapping_file.shareable.txt gevers/\n",
    "\n",
    "ls gevers"
   ]
  },
  {
   "cell_type": "markdown",
   "metadata": {},
   "source": [
    "Let's filter out the diarrhea dogs from the table that hasn't yet been rarefied."
   ]
  },
  {
   "cell_type": "code",
   "execution_count": 4,
   "metadata": {
    "collapsed": true
   },
   "outputs": [],
   "source": [
    "!filter_samples_from_otu_table.py -i otu_table.biom \\\n",
    "-o otu_table.no-diarrhea.biom \\\n",
    "-s 'disease_stat:!acute hem. diarrhea,*' \\\n",
    "-m mapping-file-full.txt"
   ]
  },
  {
   "cell_type": "code",
   "execution_count": 5,
   "metadata": {
    "collapsed": true
   },
   "outputs": [],
   "source": [
    "%%bash -e\n",
    "\n",
    "mkdir -p combined-gevers-suchodolski\n",
    "\n",
    "# both tables were picked against 13_8\n",
    "merge_otu_tables.py \\\n",
    "-i otu_table.no-diarrhea.biom,gevers/otu_table.biom \\\n",
    "-o combined-gevers-suchodolski/otu-table.biom\n",
    "\n",
    "merge_mapping_files.py \\\n",
    "-m mapping-file-full.txt,gevers/mapping_file.shareable.txt \\\n",
    "-o combined-gevers-suchodolski/mapping-file.txt \\\n",
    "--case_insensitive"
   ]
  },
  {
   "cell_type": "markdown",
   "metadata": {},
   "source": [
    "Cleaning up the mapping file:"
   ]
  },
  {
   "cell_type": "code",
   "execution_count": 6,
   "metadata": {
    "collapsed": true
   },
   "outputs": [],
   "source": [
    "mf = load_mf('combined-gevers-suchodolski/mapping-file.txt')\n",
    "\n",
    "def funk(row):\n",
    "    if row['DIAGNOSIS'] == 'no_data':\n",
    "        # we want to standardize the values of this column\n",
    "        if row['DISEASE_STAT'] == 'healthy':\n",
    "            return 'control'\n",
    "        return row['DISEASE_STAT']\n",
    "    else:\n",
    "        return row['DIAGNOSIS']\n",
    "mf['STATUS'] = mf.apply(funk, axis=1, reduce=True)\n",
    "\n",
    "# clean up some other fields\n",
    "repl = {'TITLE': {'no_data': 'Gevers_CCFA_RISK'},\n",
    "        'HOST_COMMON_NAME': {'no_data': 'human'}}\n",
    "mf.replace(repl, inplace=True)\n",
    "\n",
    "write_mf('combined-gevers-suchodolski/mapping-file.standardized.txt',\n",
    "         mf)"
   ]
  },
  {
   "cell_type": "code",
   "execution_count": 8,
   "metadata": {
    "collapsed": true
   },
   "outputs": [],
   "source": [
    "!single_rarefaction.py -i combined-gevers-suchodolski/otu-table.biom \\\n",
    "-o combined-gevers-suchodolski/otu-table.15000.biom -d 15000"
   ]
  }
 ],
 "metadata": {
  "kernelspec": {
   "display_name": "Python 2",
   "language": "python",
   "name": "python2"
  },
  "language_info": {
   "codemirror_mode": {
    "name": "ipython",
    "version": 2
   },
   "file_extension": ".py",
   "mimetype": "text/x-python",
   "name": "python",
   "nbconvert_exporter": "python",
   "pygments_lexer": "ipython2",
   "version": "2.7.9"
  }
 },
 "nbformat": 4,
 "nbformat_minor": 0
}
