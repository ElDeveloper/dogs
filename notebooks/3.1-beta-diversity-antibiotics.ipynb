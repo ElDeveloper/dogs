{
 "cells": [
  {
   "cell_type": "code",
   "execution_count": 1,
   "metadata": {
    "collapsed": true
   },
   "outputs": [],
   "source": [
    "%matplotlib inline\n",
    "\n",
    "import pandas as pd, numpy as np, seaborn as sns\n",
    "import matplotlib.pyplot as plt\n",
    "\n",
    "from qiime.parse import parse_mapping_file\n",
    "from qiime.format import format_mapping_file\n",
    "from skbio.io.util import open_file\n",
    "from scipy.stats import pearsonr, spearmanr\n",
    "from skbio.stats.distance import permanova, anosim\n",
    "from skbio import DistanceMatrix\n",
    "\n",
    "from IPython.display import Image\n",
    "\n",
    "def load_mf(fn):\n",
    "    with open_file(fn, 'U') as f:\n",
    "        mapping_data, header, _ = parse_mapping_file(f)\n",
    "        _mapping_file = pd.DataFrame(mapping_data, columns=header)\n",
    "        _mapping_file.set_index('SampleID', inplace=True)\n",
    "    return _mapping_file\n",
    "\n",
    "def write_mf(f, _df):\n",
    "    with open_file(f, 'w') as fp:\n",
    "        lines = format_mapping_file(['SampleID'] + _df.columns.tolist(),\n",
    "                                    list(_df.itertuples()))\n",
    "        fp.write(lines+'\\n')"
   ]
  },
  {
   "cell_type": "markdown",
   "metadata": {
    "collapsed": true
   },
   "source": [
    "# Compare the effect of antibiotics"
   ]
  },
  {
   "cell_type": "code",
   "execution_count": 5,
   "metadata": {
    "collapsed": true
   },
   "outputs": [],
   "source": [
    "mf = load_mf('mapping-file-full.alpha.txt')"
   ]
  },
  {
   "cell_type": "markdown",
   "metadata": {},
   "source": [
    "We have some ambiguity in the antibiotics usage information, for the rest of this analysis, we will only use the **definite answers**."
   ]
  },
  {
   "cell_type": "code",
   "execution_count": 6,
   "metadata": {
    "collapsed": false
   },
   "outputs": [
    {
     "data": {
      "text/plain": [
       "definite_no     126\n",
       "definite_yes     35\n",
       "maybe_yes        23\n",
       "maybe_no          8\n",
       "Name: Antibiotics, dtype: int64"
      ]
     },
     "execution_count": 6,
     "metadata": {},
     "output_type": "execute_result"
    }
   ],
   "source": [
    "mf.Antibiotics.value_counts()"
   ]
  },
  {
   "cell_type": "code",
   "execution_count": 12,
   "metadata": {
    "collapsed": true
   },
   "outputs": [],
   "source": [
    "!filter_distance_matrix.py \\\n",
    "-i beta/15000/unweighted_unifrac_dm.txt \\\n",
    "-o beta/15000/unweighted_unifrac_dm.abxs-only.txt \\\n",
    "-m mapping-file-full.alpha.txt \\\n",
    "-s 'Antibiotics:definite_no,definite_yes'"
   ]
  },
  {
   "cell_type": "markdown",
   "metadata": {},
   "source": [
    "Load the distance matrix and mapping file:"
   ]
  },
  {
   "cell_type": "code",
   "execution_count": 7,
   "metadata": {
    "collapsed": true
   },
   "outputs": [],
   "source": [
    "dm = DistanceMatrix.from_file('beta/15000/unweighted_unifrac_dm.abxs-only.txt')"
   ]
  },
  {
   "cell_type": "code",
   "execution_count": 8,
   "metadata": {
    "collapsed": false
   },
   "outputs": [
    {
     "data": {
      "text/plain": [
       "disease_stat  Antibiotics \n",
       "IBD           definite_no     35\n",
       "              definite_yes    12\n",
       "healthy       definite_no     77\n",
       "              definite_yes     8\n",
       "dtype: int64"
      ]
     },
     "execution_count": 8,
     "metadata": {},
     "output_type": "execute_result"
    }
   ],
   "source": [
    "emf = mf.loc[list(dm.ids)].copy()\n",
    "emf.groupby('disease_stat').Antibiotics.value_counts()"
   ]
  },
  {
   "cell_type": "markdown",
   "metadata": {},
   "source": [
    "Test for subjects **with IBD** and antibiotics and without antibiotics."
   ]
  },
  {
   "cell_type": "code",
   "execution_count": 12,
   "metadata": {
    "collapsed": false
   },
   "outputs": [
    {
     "data": {
      "text/plain": [
       "method name               PERMANOVA\n",
       "test statistic name        pseudo-F\n",
       "sample size                      47\n",
       "number of groups                  2\n",
       "test statistic             0.972712\n",
       "p-value                     0.50155\n",
       "number of permutations        10000\n",
       "Name: PERMANOVA results, dtype: object"
      ]
     },
     "execution_count": 12,
     "metadata": {},
     "output_type": "execute_result"
    }
   ],
   "source": [
    "permanova(dm.filter(emf[emf.disease_stat == 'IBD'].index, strict=False), mf, 'Antibiotics', permutations=10000)"
   ]
  },
  {
   "cell_type": "markdown",
   "metadata": {},
   "source": [
    "Test for subjects **without IBD** and antibiotics and without antibiotics."
   ]
  },
  {
   "cell_type": "code",
   "execution_count": 9,
   "metadata": {
    "collapsed": false
   },
   "outputs": [
    {
     "data": {
      "text/plain": [
       "method name               PERMANOVA\n",
       "test statistic name        pseudo-F\n",
       "sample size                      85\n",
       "number of groups                  2\n",
       "test statistic              1.49276\n",
       "p-value                   0.0137986\n",
       "number of permutations        10000\n",
       "Name: PERMANOVA results, dtype: object"
      ]
     },
     "execution_count": 9,
     "metadata": {},
     "output_type": "execute_result"
    }
   ],
   "source": [
    "permanova(dm.filter(emf[emf.disease_stat == 'healthy'].index, strict=False), mf, 'Antibiotics', permutations=10000)"
   ]
  },
  {
   "cell_type": "markdown",
   "metadata": {},
   "source": [
    "Compare them on a disease state basis:"
   ]
  },
  {
   "cell_type": "code",
   "execution_count": 10,
   "metadata": {
    "collapsed": false
   },
   "outputs": [
    {
     "data": {
      "text/plain": [
       "method name               PERMANOVA\n",
       "test statistic name        pseudo-F\n",
       "sample size                     149\n",
       "number of groups                  2\n",
       "test statistic              9.46218\n",
       "p-value                   9.999e-05\n",
       "number of permutations        10000\n",
       "Name: PERMANOVA results, dtype: object"
      ]
     },
     "execution_count": 10,
     "metadata": {},
     "output_type": "execute_result"
    }
   ],
   "source": [
    "permanova(DistanceMatrix.from_file('beta/15000/unweighted_unifrac_dm.txt'),\n",
    "          mf, 'disease_stat', permutations=10000)"
   ]
  },
  {
   "cell_type": "markdown",
   "metadata": {},
   "source": [
    "Compare them on an Antibiotic-history basis"
   ]
  },
  {
   "cell_type": "code",
   "execution_count": 11,
   "metadata": {
    "collapsed": false
   },
   "outputs": [
    {
     "data": {
      "text/plain": [
       "method name                PERMANOVA\n",
       "test statistic name         pseudo-F\n",
       "sample size                      132\n",
       "number of groups                   2\n",
       "test statistic               1.99256\n",
       "p-value                   0.00159984\n",
       "number of permutations         10000\n",
       "Name: PERMANOVA results, dtype: object"
      ]
     },
     "execution_count": 11,
     "metadata": {},
     "output_type": "execute_result"
    }
   ],
   "source": [
    "permanova(DistanceMatrix.from_file('beta/15000/unweighted_unifrac_dm.abxs-only.txt'),\n",
    "          mf, 'Antibiotics', permutations=10000)"
   ]
  },
  {
   "cell_type": "code",
   "execution_count": null,
   "metadata": {
    "collapsed": true
   },
   "outputs": [],
   "source": []
  }
 ],
 "metadata": {
  "kernelspec": {
   "display_name": "Python 2",
   "language": "python",
   "name": "python2"
  },
  "language_info": {
   "codemirror_mode": {
    "name": "ipython",
    "version": 2
   },
   "file_extension": ".py",
   "mimetype": "text/x-python",
   "name": "python",
   "nbconvert_exporter": "python",
   "pygments_lexer": "ipython2",
   "version": "2.7.9"
  }
 },
 "nbformat": 4,
 "nbformat_minor": 0
}
