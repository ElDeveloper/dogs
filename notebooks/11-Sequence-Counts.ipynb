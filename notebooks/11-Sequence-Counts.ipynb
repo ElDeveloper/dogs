{
 "cells": [
  {
   "cell_type": "code",
   "execution_count": 5,
   "metadata": {
    "collapsed": false
   },
   "outputs": [],
   "source": [
    "%matplotlib inline\n",
    "from __future__ import division\n",
    "\n",
    "import pandas as pd\n",
    "import numpy as np\n",
    "\n",
    "from biom import load_table\n",
    "\n",
    "import matplotlib.pyplot as plt"
   ]
  },
  {
   "cell_type": "markdown",
   "metadata": {},
   "source": [
    "Download the open reference OTU table."
   ]
  },
  {
   "cell_type": "code",
   "execution_count": 2,
   "metadata": {
    "collapsed": false
   },
   "outputs": [
    {
     "name": "stdout",
     "output_type": "stream",
     "text": [
      "/home/yovazquezbaeza/.bashrc: line 34: module: command not found\n",
      "discarding /home/yovazquezbaeza/miniconda/bin from PATH\n",
      "prepending /home/yovazquezbaeza/miniconda/envs/qiime/bin to PATH\n",
      "otu_table_mc2_w_tax.biom                      100% 9160KB   2.2MB/s   00:04    \n"
     ]
    }
   ],
   "source": [
    "!scp barnacle:/home/yovazquezbaeza/research/suchodolski-dogs/open-ref-otus/otu_table_mc2_w_tax.biom  counts/open-ref-table.biom"
   ]
  },
  {
   "cell_type": "code",
   "execution_count": 3,
   "metadata": {
    "collapsed": true
   },
   "outputs": [],
   "source": [
    "!biom summarize-table -i counts/open-ref-table.biom -o counts/open-ref-table-summary.txt"
   ]
  },
  {
   "cell_type": "markdown",
   "metadata": {},
   "source": [
    "Load the summaries from split libraries and the OTU table to get a proportion of the sequences assigned to an OTU. Note that the original output formats are not Pandas friendly, therefore I used vim to trimmed out the lines that were not needed at all."
   ]
  },
  {
   "cell_type": "code",
   "execution_count": 6,
   "metadata": {
    "collapsed": false
   },
   "outputs": [],
   "source": [
    "sl = pd.read_csv('counts/split_library_log.txt', sep='\\t', index_col='#SampleID')\n",
    "ot = pd.read_csv('counts/table-summary.txt', sep='\\t', index_col='#SampleID')\n",
    "ot_open = pd.read_csv('counts/open-ref-table-summary.txt', sep='\\t', index_col='#SampleID')"
   ]
  },
  {
   "cell_type": "code",
   "execution_count": 7,
   "metadata": {
    "collapsed": false
   },
   "outputs": [],
   "source": [
    "tot = pd.DataFrame(index=sl.index, columns=['Sequences', 'OTU_Counts', 'OTU_Counts_open'])"
   ]
  },
  {
   "cell_type": "code",
   "execution_count": 28,
   "metadata": {
    "collapsed": true
   },
   "outputs": [],
   "source": [
    "tot['Sequences'] = sl.Count\n",
    "tot['OTU_Counts'] = ot.Count\n",
    "tot['OTU_Counts_open'] = ot_open.Count\n",
    "\n",
    "tot['Percent'] = np.divide(tot.OTU_Counts, tot.Sequences *1.0) * 100\n",
    "tot['Percent_open'] = np.divide(tot.OTU_Counts_open, tot.Sequences *1.0) * 100"
   ]
  },
  {
   "cell_type": "markdown",
   "metadata": {},
   "source": [
    "# Examine the percents of sequences assigned to an OTU, both for open and closed reference."
   ]
  },
  {
   "cell_type": "code",
   "execution_count": 30,
   "metadata": {
    "collapsed": false
   },
   "outputs": [
    {
     "data": {
      "text/plain": [
       "<matplotlib.text.Text at 0x1103e2590>"
      ]
     },
     "execution_count": 30,
     "metadata": {},
     "output_type": "execute_result"
    },
    {
     "data": {
      "image/png": "[encoded data removed]",
      "text/plain": [
       "<matplotlib.figure.Figure at 0x10fd37e90>"
      ]
     },
     "metadata": {},
     "output_type": "display_data"
    }
   ],
   "source": [
    "tot['Percent'].hist(bins=200)\n",
    "\n",
    "plt.xlabel('Percent of Sequences Assigned to an OTU (closed reference)')\n",
    "plt.ylabel('Counts')\n",
    "plt.xlim([0, 100])\n",
    "\n",
    "plt.title('Entire Cohort')"
   ]
  },
  {
   "cell_type": "code",
   "execution_count": 29,
   "metadata": {
    "collapsed": false
   },
   "outputs": [
    {
     "data": {
      "text/plain": [
       "<matplotlib.text.Text at 0x10fc62290>"
      ]
     },
     "execution_count": 29,
     "metadata": {},
     "output_type": "execute_result"
    },
    {
     "data": {
      "image/png": "[encoded data removed]",
      "text/plain": [
       "<matplotlib.figure.Figure at 0x10fb86fd0>"
      ]
     },
     "metadata": {},
     "output_type": "display_data"
    }
   ],
   "source": [
    "tot['Percent_open'].hist(bins=200)\n",
    "\n",
    "plt.xlabel('Percent of Sequences Assigned to an OTU (open reference)')\n",
    "plt.ylabel('Counts')\n",
    "plt.xlim([0, 100])\n",
    "\n",
    "plt.title('Entire Cohort')"
   ]
  },
  {
   "cell_type": "markdown",
   "metadata": {},
   "source": [
    "# Look only at the samples that were used for analysis\n",
    "\n",
    "Note that during our entire analysis we excluded the samples from the dogs that had accute hemorragic diarrhea. Also note that a few samples are dropped since they don't accrue the minimum of 15,000 sequences. All this can be summarized by looking at the core OTU table we used."
   ]
  },
  {
   "cell_type": "code",
   "execution_count": 31,
   "metadata": {
    "collapsed": true
   },
   "outputs": [],
   "source": [
    "bt = load_table('otu_table.15000.no-diarrhea.biom')\n",
    "\n",
    "sub = tot.loc[bt.ids('sample')].copy()\n",
    "\n",
    "sub['Percent'] = np.divide(sub.OTU_Counts, sub.Sequences *1.0) * 100\n",
    "sub['Percent_open'] = np.divide(sub.OTU_Counts_open, sub.Sequences *1.0) * 100"
   ]
  },
  {
   "cell_type": "markdown",
   "metadata": {},
   "source": [
    "Now visualize this data."
   ]
  },
  {
   "cell_type": "code",
   "execution_count": 33,
   "metadata": {
    "collapsed": false
   },
   "outputs": [
    {
     "data": {
      "text/plain": [
       "<matplotlib.text.Text at 0x111515850>"
      ]
     },
     "execution_count": 33,
     "metadata": {},
     "output_type": "execute_result"
    },
    {
     "data": {
      "image/png": "[encoded data removed]",
      "text/plain": [
       "<matplotlib.figure.Figure at 0x10e2ad890>"
      ]
     },
     "metadata": {},
     "output_type": "display_data"
    }
   ],
   "source": [
    "sub['Percent'].hist(bins=200)\n",
    "\n",
    "plt.xlabel('Percent of Sequences Assigned to an OTU')\n",
    "plt.ylabel('Counts')\n",
    "plt.xlim([70, 100])\n",
    "plt.title('Samples used for Analysis')"
   ]
  },
  {
   "cell_type": "code",
   "execution_count": 34,
   "metadata": {
    "collapsed": false
   },
   "outputs": [
    {
     "data": {
      "text/plain": [
       "<matplotlib.text.Text at 0x10f1a43d0>"
      ]
     },
     "execution_count": 34,
     "metadata": {},
     "output_type": "execute_result"
    },
    {
     "data": {
      "image/png": "[encoded data removed]",
      "text/plain": [
       "<matplotlib.figure.Figure at 0x111550ad0>"
      ]
     },
     "metadata": {},
     "output_type": "display_data"
    }
   ],
   "source": [
    "sub['Percent_open'].hist(bins=200)\n",
    "\n",
    "plt.xlabel('Percent of Sequences Assigned to an OTU (Open Reference)')\n",
    "plt.ylabel('Counts')\n",
    "plt.xlim([70, 100])\n",
    "plt.title('Samples used for Analysis')"
   ]
  },
  {
   "cell_type": "code",
   "execution_count": 35,
   "metadata": {
    "collapsed": false
   },
   "outputs": [
    {
     "data": {
      "text/plain": [
       "94.247970426585781"
      ]
     },
     "execution_count": 35,
     "metadata": {},
     "output_type": "execute_result"
    }
   ],
   "source": [
    "sub.Percent.mean()"
   ]
  },
  {
   "cell_type": "code",
   "execution_count": 36,
   "metadata": {
    "collapsed": false
   },
   "outputs": [
    {
     "data": {
      "text/plain": [
       "99.143186791879018"
      ]
     },
     "execution_count": 36,
     "metadata": {},
     "output_type": "execute_result"
    }
   ],
   "source": [
    "sub.Percent_open.mean()"
   ]
  },
  {
   "cell_type": "markdown",
   "metadata": {},
   "source": [
    "This last bit is particularly revealing of the minor gains that we get from using the open reference OTU picking protocol. The mean percent of reads mapped to an OTU went from 94.2 % (in closed reference) to 99.14 % (in open reference). Furthermore in the original analysis performed in Gevers et al 2014, a closed reference OTU picking approach was used, therefore to directly compare co-occurrence networks between analyses would be incorrect."
   ]
  },
  {
   "cell_type": "code",
   "execution_count": null,
   "metadata": {
    "collapsed": true
   },
   "outputs": [],
   "source": []
  }
 ],
 "metadata": {
  "kernelspec": {
   "display_name": "Python 2",
   "language": "python",
   "name": "python2"
  },
  "language_info": {
   "codemirror_mode": {
    "name": "ipython",
    "version": 2
   },
   "file_extension": ".py",
   "mimetype": "text/x-python",
   "name": "python",
   "nbconvert_exporter": "python",
   "pygments_lexer": "ipython2",
   "version": "2.7.9"
  }
 },
 "nbformat": 4,
 "nbformat_minor": 0
}
