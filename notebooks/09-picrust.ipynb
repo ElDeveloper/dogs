{
 "cells": [
  {
   "cell_type": "code",
   "execution_count": 1,
   "metadata": {
    "collapsed": true
   },
   "outputs": [],
   "source": [
    "%matplotlib inline\n",
    "\n",
    "import pandas as pd, numpy as np, seaborn as sns\n",
    "import matplotlib.pyplot as plt\n",
    "\n",
    "from qiime.parse import parse_mapping_file\n",
    "from qiime.format import format_mapping_file\n",
    "from skbio.io.util import open_file\n",
    "from scipy.stats import pearsonr, spearmanr\n",
    "\n",
    "def load_mf(fn):\n",
    "    with open_file(fn, 'U') as f:\n",
    "        mapping_data, header, _ = parse_mapping_file(f)\n",
    "        _mapping_file = pd.DataFrame(mapping_data, columns=header)\n",
    "        _mapping_file.set_index('SampleID', inplace=True)\n",
    "    return _mapping_file\n",
    "\n",
    "def write_mf(f, _df):\n",
    "    with open_file(f, 'w') as fp:\n",
    "        lines = format_mapping_file(['SampleID'] + _df.columns.tolist(),\n",
    "                                    list(_df.itertuples()))\n",
    "        fp.write(lines+'\\n')"
   ]
  },
  {
   "cell_type": "markdown",
   "metadata": {},
   "source": [
    "Download the files from Embriette:"
   ]
  },
  {
   "cell_type": "code",
   "execution_count": 8,
   "metadata": {
    "collapsed": true
   },
   "outputs": [],
   "source": [
    "!rm -rf combined-gevers-suchdolski/picrust"
   ]
  },
  {
   "cell_type": "code",
   "execution_count": 9,
   "metadata": {
    "collapsed": false
   },
   "outputs": [],
   "source": [
    "!mkdir -p combined-gevers-suchdolski/picrust/\n",
    "!cp -rf /Users/yoshikivazquezbaeza/Dropbox/16s-fecal-only/beta_div_even430973_full_table/* \\\n",
    "combined-gevers-suchdolski/picrust/"
   ]
  },
  {
   "cell_type": "code",
   "execution_count": 10,
   "metadata": {
    "collapsed": false
   },
   "outputs": [
    {
     "name": "stdout",
     "output_type": "stream",
     "text": [
      "binary_jaccard_dm.txt\r\n",
      "\u001b[1m\u001b[36mbinary_jaccard_emperor_pcoa_plot\u001b[m\u001b[m/\r\n",
      "binary_jaccard_pc.txt\r\n",
      "log_20160803133516.txt\r\n",
      "predicted_metagenome_cat_by_function_l3_filtered_even4303973.biom\r\n"
     ]
    }
   ],
   "source": [
    "ls combined-gevers-suchdolski/picrust"
   ]
  },
  {
   "cell_type": "code",
   "execution_count": 11,
   "metadata": {
    "collapsed": false
   },
   "outputs": [],
   "source": [
    "mf = load_mf('combined-gevers-suchdolski/mapping-file.standardized.alpha.amended.fecal-only.txt')\n",
    "mf['COMBINED_HOST_AND_IBD'] = (mf.HOST_COMMON_NAME.replace(to_replace='domestic dog', value='dog')\n",
    "                               + ' ' + mf.IBD_STATUS.replace('Healthy', 'non-IBD'))\n",
    "write_mf('combined-gevers-suchdolski/mapping-file.standardized.alpha.amended.fecal-only.combined-columns.txt', mf)"
   ]
  },
  {
   "cell_type": "code",
   "execution_count": 12,
   "metadata": {
    "collapsed": true
   },
   "outputs": [],
   "source": [
    "!make_emperor.py \\\n",
    "-i combined-gevers-suchdolski/picrust/binary_jaccard_pc.txt \\\n",
    "-m combined-gevers-suchdolski/mapping-file.standardized.alpha.amended.fecal-only.combined-columns.txt \\\n",
    "-o combined-gevers-suchdolski/picrust/binary_jaccard_emperor_pcoa_plot/ \\"
   ]
  },
  {
   "cell_type": "code",
   "execution_count": 13,
   "metadata": {
    "collapsed": true
   },
   "outputs": [],
   "source": [
    "!compare_categories.py --method permanova -i combined-gevers-suchdolski/picrust/binary_jaccard_dm.txt \\\n",
    "-m combined-gevers-suchdolski/mapping-file.standardized.alpha.amended.fecal-only.combined-columns.txt \\\n",
    "-c IBD_STATUS -o combined-gevers-suchdolski/picrust/permanova-res-IBD_STATUS"
   ]
  },
  {
   "cell_type": "code",
   "execution_count": 14,
   "metadata": {
    "collapsed": false
   },
   "outputs": [
    {
     "name": "stdout",
     "output_type": "stream",
     "text": [
      "permanova_results.txt\r\n"
     ]
    }
   ],
   "source": [
    "ls combined-gevers-suchdolski/picrust/permanova-res-IBD_STATUS/"
   ]
  },
  {
   "cell_type": "code",
   "execution_count": 15,
   "metadata": {
    "collapsed": false
   },
   "outputs": [
    {
     "data": {
      "text/html": [
       "<div>\n",
       "<table border=\"1\" class=\"dataframe\">\n",
       "  <thead>\n",
       "    <tr style=\"text-align: right;\">\n",
       "      <th></th>\n",
       "      <th>method name</th>\n",
       "      <th>PERMANOVA</th>\n",
       "    </tr>\n",
       "  </thead>\n",
       "  <tbody>\n",
       "    <tr>\n",
       "      <th>0</th>\n",
       "      <td>test statistic name</td>\n",
       "      <td>pseudo-F</td>\n",
       "    </tr>\n",
       "    <tr>\n",
       "      <th>1</th>\n",
       "      <td>sample size</td>\n",
       "      <td>628</td>\n",
       "    </tr>\n",
       "    <tr>\n",
       "      <th>2</th>\n",
       "      <td>number of groups</td>\n",
       "      <td>2</td>\n",
       "    </tr>\n",
       "    <tr>\n",
       "      <th>3</th>\n",
       "      <td>test statistic</td>\n",
       "      <td>14.617123152059563</td>\n",
       "    </tr>\n",
       "    <tr>\n",
       "      <th>4</th>\n",
       "      <td>p-value</td>\n",
       "      <td>0.001</td>\n",
       "    </tr>\n",
       "    <tr>\n",
       "      <th>5</th>\n",
       "      <td>number of permutations</td>\n",
       "      <td>999</td>\n",
       "    </tr>\n",
       "  </tbody>\n",
       "</table>\n",
       "</div>"
      ],
      "text/plain": [
       "              method name           PERMANOVA\n",
       "0     test statistic name            pseudo-F\n",
       "1             sample size                 628\n",
       "2        number of groups                   2\n",
       "3          test statistic  14.617123152059563\n",
       "4                 p-value               0.001\n",
       "5  number of permutations                 999"
      ]
     },
     "execution_count": 15,
     "metadata": {},
     "output_type": "execute_result"
    }
   ],
   "source": [
    "pd.read_csv('combined-gevers-suchdolski/picrust/permanova-res-IBD_STATUS/permanova_results.txt', sep='\\t')"
   ]
  },
  {
   "cell_type": "code",
   "execution_count": 16,
   "metadata": {
    "collapsed": false
   },
   "outputs": [
    {
     "data": {
      "text/html": [
       "<div>\n",
       "<table border=\"1\" class=\"dataframe\">\n",
       "  <thead>\n",
       "    <tr style=\"text-align: right;\">\n",
       "      <th></th>\n",
       "      <th>method name</th>\n",
       "      <th>PERMANOVA</th>\n",
       "    </tr>\n",
       "  </thead>\n",
       "  <tbody>\n",
       "    <tr>\n",
       "      <th>0</th>\n",
       "      <td>test statistic name</td>\n",
       "      <td>pseudo-F</td>\n",
       "    </tr>\n",
       "    <tr>\n",
       "      <th>1</th>\n",
       "      <td>sample size</td>\n",
       "      <td>628</td>\n",
       "    </tr>\n",
       "    <tr>\n",
       "      <th>2</th>\n",
       "      <td>number of groups</td>\n",
       "      <td>2</td>\n",
       "    </tr>\n",
       "    <tr>\n",
       "      <th>3</th>\n",
       "      <td>test statistic</td>\n",
       "      <td>52.590980434970973</td>\n",
       "    </tr>\n",
       "    <tr>\n",
       "      <th>4</th>\n",
       "      <td>p-value</td>\n",
       "      <td>0.001</td>\n",
       "    </tr>\n",
       "    <tr>\n",
       "      <th>5</th>\n",
       "      <td>number of permutations</td>\n",
       "      <td>999</td>\n",
       "    </tr>\n",
       "  </tbody>\n",
       "</table>\n",
       "</div>"
      ],
      "text/plain": [
       "              method name           PERMANOVA\n",
       "0     test statistic name            pseudo-F\n",
       "1             sample size                 628\n",
       "2        number of groups                   2\n",
       "3          test statistic  52.590980434970973\n",
       "4                 p-value               0.001\n",
       "5  number of permutations                 999"
      ]
     },
     "execution_count": 16,
     "metadata": {},
     "output_type": "execute_result"
    }
   ],
   "source": [
    "!compare_categories.py --method permanova -i combined-gevers-suchdolski/picrust/binary_jaccard_dm.txt \\\n",
    "-m combined-gevers-suchdolski/mapping-file.standardized.alpha.amended.fecal-only.combined-columns.txt \\\n",
    "-c HOST_COMMON_NAME -o combined-gevers-suchdolski/picrust/permanova-res-HOST_COMMON_NAME\n",
    "\n",
    "pd.read_csv('combined-gevers-suchdolski/picrust/permanova-res-HOST_COMMON_NAME/permanova_results.txt', sep='\\t')"
   ]
  }
 ],
 "metadata": {
  "kernelspec": {
   "display_name": "Python 2",
   "language": "python",
   "name": "python2"
  },
  "language_info": {
   "codemirror_mode": {
    "name": "ipython",
    "version": 2
   },
   "file_extension": ".py",
   "mimetype": "text/x-python",
   "name": "python",
   "nbconvert_exporter": "python",
   "pygments_lexer": "ipython2",
   "version": "2.7.9"
  }
 },
 "nbformat": 4,
 "nbformat_minor": 0
}
